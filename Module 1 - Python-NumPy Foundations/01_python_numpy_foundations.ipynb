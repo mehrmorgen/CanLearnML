{
 "cells": [
  {
   "cell_type": "markdown",
   "id": "18ed83da1e743e81",
   "metadata": {},
   "source": [
    "# Module 1: Python/NumPy Foundations for Machine Learning\n",
    "\n",
    "## Introduction\n",
    "\n",
    "Welcome to the first module in our series on neural networks and language modeling! This notebook is designed for senior developers who are new to machine learning but have strong programming backgrounds.\n",
    "\n",
    "In this module, we'll cover the fundamental Python and NumPy concepts that form the foundation of machine learning implementations. While you may be familiar with Python, the way it's used in ML contexts often emphasizes different patterns and techniques than traditional software development.\n",
    "\n",
    "### What You'll Learn\n",
    "\n",
    "- **Vectorization**: Why loops are avoided in ML and how to think in terms of operations on entire arrays\n",
    "- **Broadcasting**: How NumPy handles operations between arrays of different shapes\n",
    "- **Memory Layout**: Understanding row-major vs column-major storage and why it matters for performance\n",
    "- **Data Transformations**: Common preprocessing techniques like one-hot encoding\n",
    "\n",
    "Let's start by setting up our environment.\n"
   ]
  },
  {
   "cell_type": "code",
   "execution_count": 42,
   "id": "2dfcda7948662e82",
   "metadata": {
    "ExecuteTime": {
     "end_time": "2025-08-01T11:04:21.697774Z",
     "start_time": "2025-08-01T11:04:21.687108Z"
    }
   },
   "outputs": [],
   "source": [
    "import time\n",
    "\n",
    "import matplotlib.pyplot as plt\n",
    "import numpy as np\n",
    "import pandas as pd\n",
    "\n",
    "# Set up plotting\n",
    "plt.style.use(\"ggplot\")\n",
    "%matplotlib inline"
   ]
  },
  {
   "cell_type": "markdown",
   "id": "c894f5f95dc790a8",
   "metadata": {},
   "source": [
    "## 1. Vectorization: The Foundation of ML Performance\n",
    "\n",
    "In traditional software development, we often use loops to process data item by item. In machine learning, this approach can be prohibitively slow due to the large volumes of data and computations involved.\n",
    "\n",
    "### Why Loops Are Avoided in ML\n",
    "\n",
    "1. **Performance**: Python loops are interpreted and slow\n",
    "2. **Parallelization**: Vectorized operations can leverage hardware acceleration (SIMD, GPU)\n",
    "3. **Code Clarity**: Vectorized code is often more concise and expressive\n",
    "\n",
    "Let's see a concrete example comparing loop-based vs. vectorized approaches:\n"
   ]
  },
  {
   "cell_type": "code",
   "execution_count": 43,
   "id": "f9c3274e57ec8aba",
   "metadata": {
    "ExecuteTime": {
     "end_time": "2025-08-01T11:04:23.295340Z",
     "start_time": "2025-08-01T11:04:22.176744Z"
    }
   },
   "outputs": [
    {
     "name": "stdout",
     "output_type": "stream",
     "text": [
      "Loop-based approach: 0.989816 seconds\n",
      "Vectorized approach: 0.005697 seconds\n",
      "Speedup: 173.8x\n",
      "Results match: True\n"
     ]
    }
   ],
   "source": [
    "# Create sample data - a list of 1 million numbers\n",
    "rng = np.random.Generator(np.random.PCG64())\n",
    "data = rng.standard_normal(1_000_000)\n",
    "\n",
    "\n",
    "# Loop-based approach\n",
    "def loop_sum(data: np.ndarray) -> float:\n",
    "    total = 0\n",
    "    for x in data:\n",
    "        total += x\n",
    "    return total\n",
    "\n",
    "\n",
    "# Vectorized approach\n",
    "def vector_sum(data: np.ndarray) -> float:\n",
    "    return np.sum(data)\n",
    "\n",
    "\n",
    "# Time comparison\n",
    "start = time.time()\n",
    "loop_result = loop_sum(data)\n",
    "loop_time = time.time() - start\n",
    "\n",
    "start = time.time()\n",
    "vector_result = vector_sum(data)\n",
    "vector_time = time.time() - start\n",
    "\n",
    "print(f\"Loop-based approach: {loop_time:.6f} seconds\")\n",
    "print(f\"Vectorized approach: {vector_time:.6f} seconds\")\n",
    "print(f\"Speedup: {loop_time / vector_time:.1f}x\")\n",
    "print(f\"Results match: {np.isclose(loop_result, vector_result)}\")"
   ]
  },
  {
   "cell_type": "markdown",
   "id": "e891271854bb8d65",
   "metadata": {},
   "source": "The difference becomes even more dramatic with more complex operations. Let's look at a matrix multiplication example:\n"
  },
  {
   "cell_type": "code",
   "execution_count": 44,
   "id": "87397a8fd09660d3",
   "metadata": {
    "ExecuteTime": {
     "end_time": "2025-08-01T11:04:27.404786Z",
     "start_time": "2025-08-01T11:04:23.567450Z"
    }
   },
   "outputs": [
    {
     "name": "stdout",
     "output_type": "stream",
     "text": [
      "Loop-based approach: 3.782448 seconds\n",
      "Vectorized approach: 0.000427 seconds\n",
      "Speedup: 8858.0x\n",
      "Results match: True\n"
     ]
    }
   ],
   "source": [
    "# Create two matrices\n",
    "A = rng.standard_normal((100, 100))\n",
    "B = rng.standard_normal((100, 100))\n",
    "\n",
    "\n",
    "# Loop-based matrix multiplication\n",
    "def loop_matmul(A: np.ndarray, B: np.ndarray) -> np.ndarray:\n",
    "    n, m = A.shape\n",
    "    p = B.shape[1]\n",
    "    C = np.zeros((n, p))\n",
    "    for i in range(n):\n",
    "        for j in range(p):\n",
    "            for k in range(m):\n",
    "                C[i, j] += A[i, k] * B[k, j]\n",
    "    return C\n",
    "\n",
    "\n",
    "# Vectorized matrix multiplication\n",
    "def vector_matmul(A: np.ndarray, B: np.ndarray) -> np.ndarray:\n",
    "    return A @ B  # or np.matmul(A, B)\n",
    "\n",
    "\n",
    "# Time comparison\n",
    "start = time.time()\n",
    "loop_result = loop_matmul(A, B)\n",
    "loop_time = time.time() - start\n",
    "\n",
    "start = time.time()\n",
    "vector_result = vector_matmul(A, B)\n",
    "vector_time = time.time() - start\n",
    "\n",
    "print(f\"Loop-based approach: {loop_time:.6f} seconds\")\n",
    "print(f\"Vectorized approach: {vector_time:.6f} seconds\")\n",
    "print(f\"Speedup: {loop_time / vector_time:.1f}x\")\n",
    "print(f\"Results match: {np.allclose(loop_result, vector_result)}\")"
   ]
  },
  {
   "cell_type": "markdown",
   "id": "16a1fe36287358a3",
   "metadata": {},
   "source": [
    "### Connection to Software Engineering\n",
    "\n",
    "If you're coming from a software engineering background, you can think of vectorization as analogous to:\n",
    "\n",
    "- **Database Operations**: Using SQL to process data in bulk rather than row-by-row\n",
    "- **Functional Programming**: Using map/reduce/filter instead of explicit loops\n",
    "- **Parallel Processing**: Distributing work across multiple cores/machines\n",
    "\n",
    "The key mindset shift is to think in terms of operations on entire collections of data rather than individual elements.\n"
   ]
  },
  {
   "cell_type": "markdown",
   "id": "e5778f6d9f12582d",
   "metadata": {},
   "source": [
    "## 2. Broadcasting: Elegant Handling of Different Shapes\n",
    "\n",
    "Broadcasting is NumPy's way of performing operations on arrays of different shapes. It's a powerful feature that allows for concise code, but it can be confusing if you're not familiar with the rules.\n",
    "\n",
    "### Broadcasting Rules\n",
    "\n",
    "1. If arrays don't have the same rank (number of dimensions), prepend the shape of the lower-rank array with 1s\n",
    "2. If the shape of the arrays doesn't match in any dimension, expand the array with shape 1 in that dimension\n",
    "3. If the shape of the arrays doesn't match in any dimension and neither is 1, raise an error\n",
    "\n",
    "Let's see some examples:\n"
   ]
  },
  {
   "cell_type": "code",
   "execution_count": 45,
   "id": "448107d34eba592",
   "metadata": {
    "ExecuteTime": {
     "end_time": "2025-08-01T11:04:27.605324Z",
     "start_time": "2025-08-01T11:04:27.557924Z"
    }
   },
   "outputs": [
    {
     "name": "stdout",
     "output_type": "stream",
     "text": [
      "a + b = [ 6  7  8  9 10]\n",
      "\n",
      "c + d = \n",
      "[[2 4 6]\n",
      " [5 7 9]]\n",
      "\n",
      "c_expanded + d = \n",
      "[[2 4 6]\n",
      " [5 7 9]]\n"
     ]
    }
   ],
   "source": [
    "# Scalar + Vector\n",
    "a = 5\n",
    "b = np.array([1, 2, 3, 4, 5])\n",
    "print(f\"a + b = {a + b}\")\n",
    "\n",
    "# Vector + Matrix\n",
    "c = np.array([1, 2, 3])  # Shape: (3,)\n",
    "d = np.array([[1, 2, 3], [4, 5, 6]])  # Shape: (2, 3)\n",
    "print(f\"\\nc + d = \\n{c + d}\")\n",
    "\n",
    "# This is equivalent to:\n",
    "c_expanded = np.array([[1, 2, 3], [1, 2, 3]])  # Shape: (2, 3)\n",
    "print(f\"\\nc_expanded + d = \\n{c_expanded + d}\")"
   ]
  },
  {
   "cell_type": "markdown",
   "id": "8acf2111ec62a167",
   "metadata": {},
   "source": [
    "### Broadcasting in Machine Learning\n",
    "\n",
    "Broadcasting is particularly useful in machine learning for operations like:\n",
    "\n",
    "- Adding biases to weighted inputs\n",
    "- Normalizing data across different dimensions\n",
    "- Applying the same transformation to batches of data\n",
    "\n",
    "Let's see a practical example: normalizing a batch of data.\n"
   ]
  },
  {
   "cell_type": "code",
   "execution_count": 46,
   "id": "6ae0d5d5c5abaab6",
   "metadata": {
    "ExecuteTime": {
     "end_time": "2025-08-01T11:04:28.073717Z",
     "start_time": "2025-08-01T11:04:28.047717Z"
    }
   },
   "outputs": [
    {
     "name": "stdout",
     "output_type": "stream",
     "text": [
      "Original batch shape: (10, 5)\n",
      "Feature means shape: (5,)\n",
      "Feature stds shape: (5,)\n",
      "Normalized batch shape: (10, 5)\n",
      "\n",
      "Normalized means: [-1.11022302e-17 -4.44089210e-17  4.99600361e-17  1.11022302e-17\n",
      " -1.33226763e-16]\n",
      "Normalized stds: [1. 1. 1. 1. 1.]\n"
     ]
    }
   ],
   "source": [
    "# Create a batch of 10 samples, each with 5 features\n",
    "batch = rng.standard_normal((10, 5))\n",
    "\n",
    "# Calculate mean and standard deviation for each feature\n",
    "feature_means = np.mean(batch, axis=0)  # Shape: (5,)\n",
    "feature_stds = np.std(batch, axis=0)  # Shape: (5,)\n",
    "\n",
    "# Normalize the batch using broadcasting\n",
    "normalized_batch = (batch - feature_means) / feature_stds\n",
    "\n",
    "print(f\"Original batch shape: {batch.shape}\")\n",
    "print(f\"Feature means shape: {feature_means.shape}\")\n",
    "print(f\"Feature stds shape: {feature_stds.shape}\")\n",
    "print(f\"Normalized batch shape: {normalized_batch.shape}\")\n",
    "\n",
    "# Verify that each feature now has mean ≈ 0 and std ≈ 1\n",
    "print(f\"\\nNormalized means: {np.mean(normalized_batch, axis=0)}\")\n",
    "print(f\"Normalized stds: {np.std(normalized_batch, axis=0)}\")"
   ]
  },
  {
   "cell_type": "markdown",
   "id": "8df6546f5bb6f3e1",
   "metadata": {},
   "source": [
    "### Connection to Software Engineering\n",
    "\n",
    "If you're familiar with functional programming, broadcasting is similar to how higher-order functions like `map` can apply a function to elements of different collections. The difference is that broadcasting is built into the numeric operations themselves.\n"
   ]
  },
  {
   "cell_type": "markdown",
   "id": "13eb2052de51a8fe",
   "metadata": {},
   "source": [
    "## 3. Memory Layout: Row-Major vs Column-Major\n",
    "\n",
    "Understanding how arrays are stored in memory is crucial for optimizing performance in machine learning applications. NumPy uses row-major order (C-style) by default, which means that elements in a row are stored contiguously in memory.\n",
    "\n",
    "### Why Memory Layout Matters\n",
    "\n",
    "1. **Cache Efficiency**: Accessing memory in the order it's stored is faster due to CPU cache behavior\n",
    "2. **Operation Performance**: Some operations are faster along certain axes\n",
    "3. **Interoperability**: Different libraries may assume different memory layouts\n",
    "\n",
    "Let's see how memory layout affects performance:\n"
   ]
  },
  {
   "cell_type": "code",
   "execution_count": 47,
   "id": "804258b052cfa808",
   "metadata": {
    "ExecuteTime": {
     "end_time": "2025-08-01T11:04:28.634158Z",
     "start_time": "2025-08-01T11:04:28.585225Z"
    }
   },
   "outputs": [
    {
     "name": "stdout",
     "output_type": "stream",
     "text": [
      "Row sum time: 0.001444 seconds\n",
      "Column sum time: 0.001122 seconds\n",
      "Ratio: 0.78x\n"
     ]
    }
   ],
   "source": [
    "# Create a large matrix\n",
    "large_matrix = rng.standard_normal((1000, 1000))\n",
    "\n",
    "# Sum along rows (axis 1)\n",
    "start = time.time()\n",
    "row_sum = np.sum(large_matrix, axis=1)\n",
    "row_time = time.time() - start\n",
    "\n",
    "# Sum along columns (axis 0)\n",
    "start = time.time()\n",
    "col_sum = np.sum(large_matrix, axis=0)\n",
    "col_time = time.time() - start\n",
    "\n",
    "print(f\"Row sum time: {row_time:.6f} seconds\")\n",
    "print(f\"Column sum time: {col_time:.6f} seconds\")\n",
    "print(f\"Ratio: {col_time / row_time:.2f}x\")"
   ]
  },
  {
   "cell_type": "markdown",
   "id": "538913033d530ecf",
   "metadata": {},
   "source": [
    "In a row-major layout, summing along rows is often faster because the elements being added are adjacent in memory, leading to better cache utilization.\n",
    "\n",
    "### Memory Layout in Machine Learning\n",
    "\n",
    "In machine learning, we often work with batches of data where each row represents a sample and each column represents a feature. The row-major layout of NumPy arrays aligns well with this structure, making operations on samples (like forward passes through a neural network) efficient.\n"
   ]
  },
  {
   "cell_type": "markdown",
   "id": "3f829fb4a863fc04",
   "metadata": {},
   "source": [
    "## 4. Data Transformations: One-Hot Encoding\n",
    "\n",
    "One-hot encoding is a common technique for converting categorical data into a format suitable for machine learning algorithms. It creates a binary vector for each category, with a 1 in the position corresponding to the category and 0s elsewhere.\n",
    "\n",
    "### Why One-Hot Encoding?\n",
    "\n",
    "1. **Numeric Representation**: ML algorithms work with numbers, not categories\n",
    "2. **No Ordinal Relationship**: Avoids implying an order between categories\n",
    "3. **Feature Space**: Creates a orthogonal feature space where each category is independent\n",
    "\n",
    "Let's implement one-hot encoding from scratch and compare it with built-in methods:\n"
   ]
  },
  {
   "cell_type": "code",
   "execution_count": 48,
   "id": "ac62fb57bfe94dc3",
   "metadata": {
    "ExecuteTime": {
     "end_time": "2025-08-01T11:04:29.025135Z",
     "start_time": "2025-08-01T11:04:28.974164Z"
    }
   },
   "outputs": [
    {
     "name": "stdout",
     "output_type": "stream",
     "text": [
      "Categories: ['a', 'b', 'c', 'a', 'd', 'b']\n",
      "Category mapping: {'a': 0, 'b': 1, 'c': 2, 'd': 3}\n",
      "\n",
      "Manual one-hot encoding:\n",
      "[[1. 0. 0. 0.]\n",
      " [0. 1. 0. 0.]\n",
      " [0. 0. 1. 0.]\n",
      " [1. 0. 0. 0.]\n",
      " [0. 0. 0. 1.]\n",
      " [0. 1. 0. 0.]]\n",
      "\n",
      "Pandas one-hot encoding:\n",
      "[[ True False False False]\n",
      " [False  True False False]\n",
      " [False False  True False]\n",
      " [ True False False False]\n",
      " [False False False  True]\n",
      " [False  True False False]]\n"
     ]
    }
   ],
   "source": [
    "# Sample categorical data: characters\n",
    "characters = [\"a\", \"b\", \"c\", \"a\", \"d\", \"b\"]\n",
    "\n",
    "\n",
    "# Manual one-hot encoding\n",
    "def manual_one_hot(data: list) -> tuple[np.ndarray, dict]:\n",
    "    # Create a mapping from categories to indices\n",
    "    unique_categories = sorted(set(data))\n",
    "    category_to_idx = {category: idx for idx, category in enumerate(unique_categories)}\n",
    "\n",
    "    # Create the one-hot encoded matrix\n",
    "    n_samples = len(data)\n",
    "    n_categories = len(unique_categories)\n",
    "    one_hot_matrix = np.zeros((n_samples, n_categories))\n",
    "\n",
    "    for i, category in enumerate(data):\n",
    "        one_hot_matrix[i, category_to_idx[category]] = 1\n",
    "\n",
    "    return one_hot_matrix, category_to_idx\n",
    "\n",
    "\n",
    "# Using pandas get_dummies\n",
    "def pandas_one_hot(data: list) -> np.ndarray:\n",
    "    return pd.get_dummies(data).values\n",
    "\n",
    "\n",
    "# Compare the approaches\n",
    "manual_result, category_mapping = manual_one_hot(characters)\n",
    "pandas_result = pandas_one_hot(characters)\n",
    "\n",
    "print(f\"Categories: {characters}\")\n",
    "print(f\"Category mapping: {category_mapping}\")\n",
    "print(f\"\\nManual one-hot encoding:\\n{manual_result}\")\n",
    "print(f\"\\nPandas one-hot encoding:\\n{pandas_result}\")"
   ]
  },
  {
   "cell_type": "markdown",
   "id": "e6f9dff9ad5da50c",
   "metadata": {},
   "source": [
    "### One-Hot Encoding in Machine Learning\n",
    "\n",
    "In our upcoming language modeling tasks, we'll use one-hot encoding to represent characters. Each character will be encoded as a vector where most elements are 0 except for a single 1 at the position corresponding to that character.\n",
    "\n",
    "Let's see how this would work for a simple character-level language model:\n"
   ]
  },
  {
   "cell_type": "code",
   "execution_count": 49,
   "id": "88ea91768d46e049",
   "metadata": {
    "ExecuteTime": {
     "end_time": "2025-08-01T11:04:32.565996Z",
     "start_time": "2025-08-01T11:04:31.678222Z"
    }
   },
   "outputs": [
    {
     "name": "stdout",
     "output_type": "stream",
     "text": [
      "Text: hello\n",
      "Vocabulary: ['e', 'h', 'l', 'o']\n",
      "Character to index mapping: {'e': 0, 'h': 1, 'l': 2, 'o': 3}\n",
      "\n",
      "Indices: [1, 0, 2, 2, 3]\n",
      "\n",
      "One-hot encoded:\n",
      "[[0. 1. 0. 0.]\n",
      " [1. 0. 0. 0.]\n",
      " [0. 0. 1. 0.]\n",
      " [0. 0. 1. 0.]\n",
      " [0. 0. 0. 1.]]\n"
     ]
    },
    {
     "data": {
      "image/png": "[encoded data removed]",
      "text/plain": [
       "<Figure size 1000x600 with 2 Axes>"
      ]
     },
     "metadata": {},
     "output_type": "display_data"
    }
   ],
   "source": [
    "# Sample text data\n",
    "text = \"hello\"\n",
    "\n",
    "# Create character vocabulary\n",
    "vocab = sorted(set(text))\n",
    "char_to_idx = dict(zip(vocab, range(len(vocab)), strict=False))\n",
    "idx_to_char = dict(zip(range(len(vocab)), vocab, strict=False))\n",
    "\n",
    "print(f\"Text: {text}\")\n",
    "print(f\"Vocabulary: {vocab}\")\n",
    "print(f\"Character to index mapping: {char_to_idx}\")\n",
    "\n",
    "# Convert text to indices\n",
    "indices = [char_to_idx[char] for char in text]\n",
    "print(f\"\\nIndices: {indices}\")\n",
    "\n",
    "# One-hot encode the indices\n",
    "one_hot = np.zeros((len(indices), len(vocab)))\n",
    "for i, idx in enumerate(indices):\n",
    "    one_hot[i, idx] = 1\n",
    "\n",
    "print(f\"\\nOne-hot encoded:\\n{one_hot}\")\n",
    "\n",
    "# Visualize the one-hot encoding\n",
    "plt.figure(figsize=(10, 6))\n",
    "plt.imshow(one_hot, cmap=\"Blues\")\n",
    "plt.xticks(range(len(vocab)), vocab)\n",
    "plt.yticks(range(len(text)), list(text))\n",
    "plt.colorbar()\n",
    "plt.title('One-hot Encoding of \"hello\"')\n",
    "plt.xlabel(\"Character\")\n",
    "plt.ylabel(\"Position in Text\")\n",
    "plt.grid(False)\n",
    "plt.show()"
   ]
  },
  {
   "cell_type": "markdown",
   "id": "e3828eec78fffa3",
   "metadata": {},
   "source": [
    "### Connection to Software Engineering\n",
    "\n",
    "One-hot encoding is similar to the concept of normalization in database design, where you create separate tables for different entities and use foreign keys to reference them. In one-hot encoding, you're essentially creating a sparse representation where each category gets its own dimension.\n"
   ]
  },
  {
   "cell_type": "markdown",
   "id": "5aa37c0c2e8fa40",
   "metadata": {},
   "source": [
    "## 5. Practical Application: Bigram Frequency Analysis\n",
    "\n",
    "Now let's apply these concepts to a real-world problem: analyzing character bigrams (pairs of adjacent characters) in a dataset of names. This will serve as a foundation for our language modeling work in later modules.\n",
    "\n",
    "We'll load a dataset of names and count the frequency of character bigrams using vectorized operations.\n"
   ]
  },
  {
   "cell_type": "code",
   "execution_count": 50,
   "id": "d33a7190d2ed1d76",
   "metadata": {
    "ExecuteTime": {
     "end_time": "2025-08-01T11:04:33.173075Z",
     "start_time": "2025-08-01T11:04:33.159820Z"
    }
   },
   "outputs": [
    {
     "name": "stdout",
     "output_type": "stream",
     "text": [
      "First 10 names: ['emma', 'olivia', 'ava', 'isabella', 'sophia', 'charlotte', 'mia', 'amelia', 'harper', 'evelyn']\n",
      "Total number of names: 32033\n"
     ]
    }
   ],
   "source": [
    "# Load the names dataset\n",
    "with open(\"../data/names.txt\") as f:\n",
    "    names = f.read().splitlines()\n",
    "\n",
    "# Take a look at the first few names\n",
    "print(f\"First 10 names: {names[:10]}\")\n",
    "print(f\"Total number of names: {len(names)}\")"
   ]
  },
  {
   "cell_type": "code",
   "execution_count": 51,
   "id": "347a8c27ab9f6887",
   "metadata": {
    "ExecuteTime": {
     "end_time": "2025-08-01T11:04:33.759192Z",
     "start_time": "2025-08-01T11:04:33.631978Z"
    }
   },
   "outputs": [
    {
     "name": "stdout",
     "output_type": "stream",
     "text": [
      "Vocabulary size: 28\n",
      "Vocabulary: ['<', '>', 'a', 'b', 'c', 'd', 'e', 'f', 'g', 'h', 'i', 'j', 'k', 'l', 'm', 'n', 'o', 'p', 'q', 'r', 's', 't', 'u', 'v', 'w', 'x', 'y', 'z']\n"
     ]
    }
   ],
   "source": [
    "# Add start and end tokens to each name\n",
    "names_with_tokens = [\"<\" + name.lower() + \">\" for name in names]\n",
    "\n",
    "# Create vocabulary of all possible characters\n",
    "all_chars = set()\n",
    "for name in names_with_tokens:\n",
    "    all_chars.update(name)\n",
    "\n",
    "vocab = [\"<\", \">\"] + sorted(all_chars - {\"<\", \">\"})\n",
    "char_to_idx = dict(zip(vocab, range(len(vocab)), strict=False))\n",
    "\n",
    "print(f\"Vocabulary size: {len(vocab)}\")\n",
    "print(f\"Vocabulary: {vocab}\")"
   ]
  },
  {
   "cell_type": "code",
   "execution_count": 52,
   "id": "8261ca3d1e8d9452",
   "metadata": {
    "ExecuteTime": {
     "end_time": "2025-08-01T11:04:35.021278Z",
     "start_time": "2025-08-01T11:04:34.124219Z"
    }
   },
   "outputs": [
    {
     "name": "stderr",
     "output_type": "stream",
     "text": [
      "/var/folders/nx/rm5sctm56cd7jv9zxnmstgm80000gq/T/ipykernel_88786/2526531644.py:9: RuntimeWarning: invalid value encountered in divide\n",
      "  bigram_probs = bigram_counts / bigram_counts.sum(axis=1, keepdims=True)\n"
     ]
    }
   ],
   "source": [
    "# Count bigram frequencies\n",
    "bigram_counts = np.zeros((len(vocab), len(vocab)))\n",
    "\n",
    "for name in names_with_tokens:\n",
    "    for c1, c2 in zip(name, name[1:], strict=False):\n",
    "        bigram_counts[char_to_idx[c1], char_to_idx[c2]] += 1\n",
    "\n",
    "# Convert counts to probabilities\n",
    "bigram_probs = bigram_counts / bigram_counts.sum(axis=1, keepdims=True)\n",
    "\n",
    "# Handle division by zero (rows with all zeros)\n",
    "bigram_probs = np.nan_to_num(bigram_probs)"
   ]
  },
  {
   "cell_type": "code",
   "execution_count": 53,
   "id": "f6edf98d99b19310",
   "metadata": {
    "ExecuteTime": {
     "end_time": "2025-08-01T11:04:38.087842Z",
     "start_time": "2025-08-01T11:04:35.191175Z"
    }
   },
   "outputs": [
    {
     "data": {
      "image/png": "[encoded data removed]",
      "text/plain": [
       "<Figure size 1500x1500 with 2 Axes>"
      ]
     },
     "metadata": {},
     "output_type": "display_data"
    }
   ],
   "source": [
    "# Visualize the bigram probabilities\n",
    "plt.figure(figsize=(15, 15))\n",
    "plt.imshow(bigram_probs, cmap=\"Blues\")\n",
    "\n",
    "# Add labels\n",
    "plt.xticks(range(len(vocab)), vocab, rotation=45)\n",
    "plt.yticks(range(len(vocab)), vocab)\n",
    "\n",
    "plt.title(\"Character Bigram Probabilities\")\n",
    "plt.xlabel(\"Next Character\")\n",
    "plt.ylabel(\"Current Character\")\n",
    "\n",
    "# Add a colorbar\n",
    "plt.colorbar()\n",
    "\n",
    "# Add grid lines\n",
    "plt.grid(False)\n",
    "plt.show()"
   ]
  },
  {
   "cell_type": "markdown",
   "id": "f0a876d96ec60dfc",
   "metadata": {},
   "source": [
    "### Analyzing the Results\n",
    "\n",
    "From the heatmap, we can observe patterns in how characters follow each other in names:\n",
    "\n",
    "1. After the start token `<`, certain characters are much more likely (common first letters in names)\n",
    "2. Certain character pairs are very common (like 'th', 'er', 'an')\n",
    "3. Many character combinations never occur (shown as dark blue)\n",
    "\n",
    "This bigram analysis forms the foundation of a simple language model that can generate new names by sampling from these probability distributions.\n"
   ]
  },
  {
   "cell_type": "markdown",
   "id": "39bc31656c25bbea",
   "metadata": {},
   "source": [
    "## 6. Performance Comparison: Loop vs. Vectorized Implementation\n",
    "\n",
    "To reinforce the importance of vectorization, let's compare the performance of loop-based and vectorized implementations for computing bigram probabilities.\n"
   ]
  },
  {
   "cell_type": "code",
   "execution_count": 54,
   "id": "2276b2634c0c6d8",
   "metadata": {
    "ExecuteTime": {
     "end_time": "2025-08-01T11:04:38.911495Z",
     "start_time": "2025-08-01T11:04:38.245506Z"
    }
   },
   "outputs": [
    {
     "name": "stdout",
     "output_type": "stream",
     "text": [
      "Loop-based approach: 0.278934 seconds\n",
      "Vectorized approach: 0.326306 seconds\n",
      "Speedup: 0.85x\n",
      "Results match: True\n"
     ]
    }
   ],
   "source": [
    "# Loop-based implementation\n",
    "def compute_bigram_probs_loop(names: list[str], vocab: list[str]) -> np.ndarray:\n",
    "    char_to_idx = dict(zip(vocab, range(len(vocab)), strict=False))\n",
    "    bigram_counts = np.zeros((len(vocab), len(vocab)))\n",
    "\n",
    "    for name in names:\n",
    "        for i in range(len(name) - 1):\n",
    "            c1, c2 = name[i], name[i + 1]\n",
    "            bigram_counts[char_to_idx[c1], char_to_idx[c2]] += 1\n",
    "\n",
    "    # Convert counts to probabilities\n",
    "    bigram_probs = np.zeros_like(bigram_counts)\n",
    "    for i in range(len(vocab)):\n",
    "        row_sum = np.sum(bigram_counts[i])\n",
    "        if row_sum > 0:\n",
    "            bigram_probs[i] = bigram_counts[i] / row_sum\n",
    "\n",
    "    return bigram_probs\n",
    "\n",
    "\n",
    "# Vectorized implementation\n",
    "def compute_bigram_probs_vectorized(names: list[str], vocab: list[str]) -> np.ndarray:\n",
    "    char_to_idx = dict(zip(vocab, range(len(vocab)), strict=False))\n",
    "    bigram_counts = np.zeros((len(vocab), len(vocab)))\n",
    "\n",
    "    for name in names:\n",
    "        for c1, c2 in zip(name, name[1:], strict=False):\n",
    "            bigram_counts[char_to_idx[c1], char_to_idx[c2]] += 1\n",
    "\n",
    "    # Convert counts to probabilities using broadcasting\n",
    "    row_sums = bigram_counts.sum(axis=1, keepdims=True)\n",
    "    bigram_probs = np.divide(\n",
    "        bigram_counts, row_sums, out=np.zeros_like(bigram_counts), where=row_sums != 0\n",
    "    )\n",
    "\n",
    "    return bigram_probs\n",
    "\n",
    "\n",
    "# Time comparison\n",
    "start = time.time()\n",
    "loop_probs = compute_bigram_probs_loop(names_with_tokens, vocab)\n",
    "loop_time = time.time() - start\n",
    "\n",
    "start = time.time()\n",
    "vector_probs = compute_bigram_probs_vectorized(names_with_tokens, vocab)\n",
    "vector_time = time.time() - start\n",
    "\n",
    "print(f\"Loop-based approach: {loop_time:.6f} seconds\")\n",
    "print(f\"Vectorized approach: {vector_time:.6f} seconds\")\n",
    "print(f\"Speedup: {loop_time / vector_time:.2f}x\")\n",
    "print(f\"Results match: {np.allclose(loop_probs, vector_probs)}\")"
   ]
  },
  {
   "cell_type": "markdown",
   "id": "6796d6d9a38f2e19",
   "metadata": {},
   "source": [
    "## Summary\n",
    "\n",
    "In this module, we've covered the fundamental Python and NumPy concepts that form the foundation of machine learning implementations:\n",
    "\n",
    "1. **Vectorization**: Using array operations instead of loops for better performance\n",
    "2. **Broadcasting**: Performing operations on arrays of different shapes\n",
    "3. **Memory Layout**: Understanding how data is stored and accessed in memory\n",
    "4. **Data Transformations**: Converting categorical data to numerical representations\n",
    "\n",
    "We've also applied these concepts to a practical problem: analyzing character bigrams in a dataset of names. This analysis will serve as a foundation for our language modeling work in the next modules.\n",
    "\n",
    "### Key Takeaways for Senior Developers\n",
    "\n",
    "- **Think in Arrays, Not Items**: ML code operates on entire datasets at once\n",
    "- **Optimize for Memory Access**: Understanding data layout can lead to significant performance gains\n",
    "- **Leverage Broadcasting**: Use NumPy's broadcasting to write concise, efficient code\n",
    "- **Represent Data Numerically**: Convert all inputs to numerical form for ML algorithms\n",
    "\n",
    "In the next module, we'll build on these foundations to explore the mathematical concepts behind machine learning, including probability distributions, information theory, and optimization."
   ]
  }
 ],
 "metadata": {},
 "nbformat": 4,
 "nbformat_minor": 5
}
